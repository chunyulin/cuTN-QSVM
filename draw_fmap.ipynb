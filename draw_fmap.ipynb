{
 "cells": [
  {
   "cell_type": "code",
   "execution_count": 100,
   "id": "42ac9a04-74f2-4242-be0c-1f5888f86641",
   "metadata": {},
   "outputs": [
    {
     "name": "stdout",
     "output_type": "stream",
     "text": [
      "     ┌──────────────────────────────┐\n",
      "q_0: ┤0                             ├\n",
      "     │                              │\n",
      "q_1: ┤1 ZFeatureMap(x[0],x[1],x[2]) ├\n",
      "     │                              │\n",
      "q_2: ┤2                             ├\n",
      "     └──────────────────────────────┘\n",
      "     ┌───────────────────────────────┐\n",
      "q_0: ┤0                              ├\n",
      "     │                               │\n",
      "q_1: ┤1 ZZFeatureMap(x[0],x[1],x[2]) ├\n",
      "     │                               │\n",
      "q_2: ┤2                              ├\n",
      "     └───────────────────────────────┘\n",
      "     ┌──────────────────────────────────┐\n",
      "q_0: ┤0                                 ├\n",
      "     │                                  │\n",
      "q_1: ┤1 PauliFeatureMap(x[0],x[1],x[2]) ├\n",
      "     │                                  │\n",
      "q_2: ┤2                                 ├\n",
      "     └──────────────────────────────────┘\n"
     ]
    }
   ],
   "source": [
    "import numpy as np\n",
    "from qiskit import transpile, QuantumCircuit\n",
    "from qiskit.circuit.library import ZZFeatureMap,ZFeatureMap,PauliFeatureMap\n",
    "from qiskit_machine_learning.kernels import FidelityQuantumKernel\n",
    "from qiskit_algorithms.state_fidelities import ComputeUncompute\n",
    "from qiskit.primitives import Sampler\n",
    "\n",
    "N=3\n",
    "f0 = ZFeatureMap(N,reps=1)\n",
    "f1 = ZZFeatureMap(N,reps=1, entanglement='linear')\n",
    "f2 = PauliFeatureMap(N, reps=1, entanglement='full')\n",
    "#fidelity = ComputeUncompute(sampler=Sampler())\n",
    "#qc = fidelity.create_fidelity_circuit(fmap,fmap)  ##.remove_final_measurements()\n",
    "\n",
    "print(f0)\n",
    "print(f1)\n",
    "print(f2)"
   ]
  },
  {
   "cell_type": "code",
   "execution_count": 101,
   "id": "a51c91e7-6982-4d33-8ac2-23cdf592528a",
   "metadata": {},
   "outputs": [
    {
     "data": {
      "text/html": [
       "<pre style=\"word-wrap: normal;white-space: pre;background: #fff0;line-height: 1.1;font-family: &quot;Courier New&quot;,Courier,monospace\">     ┌───┐┌─────────────┐\n",
       "q_0: ┤ H ├┤ P(2.0*x[0]) ├\n",
       "     ├───┤├─────────────┤\n",
       "q_1: ┤ H ├┤ P(2.0*x[1]) ├\n",
       "     ├───┤├─────────────┤\n",
       "q_2: ┤ H ├┤ P(2.0*x[2]) ├\n",
       "     └───┘└─────────────┘</pre>"
      ],
      "text/plain": [
       "     ┌───┐┌─────────────┐\n",
       "q_0: ┤ H ├┤ P(2.0*x[0]) ├\n",
       "     ├───┤├─────────────┤\n",
       "q_1: ┤ H ├┤ P(2.0*x[1]) ├\n",
       "     ├───┤├─────────────┤\n",
       "q_2: ┤ H ├┤ P(2.0*x[2]) ├\n",
       "     └───┘└─────────────┘"
      ]
     },
     "execution_count": 101,
     "metadata": {},
     "output_type": "execute_result"
    }
   ],
   "source": [
    "f0.decompose().draw()\n"
   ]
  },
  {
   "cell_type": "code",
   "execution_count": 102,
   "id": "d81d54ad-0f59-49ea-8131-da453c8d3197",
   "metadata": {},
   "outputs": [
    {
     "data": {
      "text/html": [
       "<pre style=\"word-wrap: normal;white-space: pre;background: #fff0;line-height: 1.1;font-family: &quot;Courier New&quot;,Courier,monospace\">     ┌───┐┌─────────────┐                                               »\n",
       "q_0: ┤ H ├┤ P(2.0*x[0]) ├──■────────────────────────────────────■───────»\n",
       "     ├───┤├─────────────┤┌─┴─┐┌──────────────────────────────┐┌─┴─┐     »\n",
       "q_1: ┤ H ├┤ P(2.0*x[1]) ├┤ X ├┤ P(2.0*(π - x[0])*(π - x[1])) ├┤ X ├──■──»\n",
       "     ├───┤├─────────────┤└───┘└──────────────────────────────┘└───┘┌─┴─┐»\n",
       "q_2: ┤ H ├┤ P(2.0*x[2]) ├──────────────────────────────────────────┤ X ├»\n",
       "     └───┘└─────────────┘                                          └───┘»\n",
       "«                                          \n",
       "«q_0: ─────────────────────────────────────\n",
       "«                                          \n",
       "«q_1: ──────────────────────────────────■──\n",
       "«     ┌──────────────────────────────┐┌─┴─┐\n",
       "«q_2: ┤ P(2.0*(π - x[1])*(π - x[2])) ├┤ X ├\n",
       "«     └──────────────────────────────┘└───┘</pre>"
      ],
      "text/plain": [
       "     ┌───┐┌─────────────┐                                               »\n",
       "q_0: ┤ H ├┤ P(2.0*x[0]) ├──■────────────────────────────────────■───────»\n",
       "     ├───┤├─────────────┤┌─┴─┐┌──────────────────────────────┐┌─┴─┐     »\n",
       "q_1: ┤ H ├┤ P(2.0*x[1]) ├┤ X ├┤ P(2.0*(π - x[0])*(π - x[1])) ├┤ X ├──■──»\n",
       "     ├───┤├─────────────┤└───┘└──────────────────────────────┘└───┘┌─┴─┐»\n",
       "q_2: ┤ H ├┤ P(2.0*x[2]) ├──────────────────────────────────────────┤ X ├»\n",
       "     └───┘└─────────────┘                                          └───┘»\n",
       "«                                          \n",
       "«q_0: ─────────────────────────────────────\n",
       "«                                          \n",
       "«q_1: ──────────────────────────────────■──\n",
       "«     ┌──────────────────────────────┐┌─┴─┐\n",
       "«q_2: ┤ P(2.0*(π - x[1])*(π - x[2])) ├┤ X ├\n",
       "«     └──────────────────────────────┘└───┘"
      ]
     },
     "execution_count": 102,
     "metadata": {},
     "output_type": "execute_result"
    }
   ],
   "source": [
    "f1.decompose().draw()\n"
   ]
  },
  {
   "cell_type": "code",
   "execution_count": 103,
   "id": "abe12cb2-b2e3-4c83-82ec-dcf11945c595",
   "metadata": {},
   "outputs": [
    {
     "data": {
      "text/html": [
       "<pre style=\"word-wrap: normal;white-space: pre;background: #fff0;line-height: 1.1;font-family: &quot;Courier New&quot;,Courier,monospace\">     ┌───┐┌─────────────┐                                               »\n",
       "q_0: ┤ H ├┤ P(2.0*x[0]) ├──■────────────────────────────────────■────■──»\n",
       "     ├───┤├─────────────┤┌─┴─┐┌──────────────────────────────┐┌─┴─┐  │  »\n",
       "q_1: ┤ H ├┤ P(2.0*x[1]) ├┤ X ├┤ P(2.0*(π - x[0])*(π - x[1])) ├┤ X ├──┼──»\n",
       "     ├───┤├─────────────┤└───┘└──────────────────────────────┘└───┘┌─┴─┐»\n",
       "q_2: ┤ H ├┤ P(2.0*x[2]) ├──────────────────────────────────────────┤ X ├»\n",
       "     └───┘└─────────────┘                                          └───┘»\n",
       "«                                               »\n",
       "«q_0: ──────────────────────────────────■───────»\n",
       "«                                       │       »\n",
       "«q_1: ──────────────────────────────────┼────■──»\n",
       "«     ┌──────────────────────────────┐┌─┴─┐┌─┴─┐»\n",
       "«q_2: ┤ P(2.0*(π - x[0])*(π - x[2])) ├┤ X ├┤ X ├»\n",
       "«     └──────────────────────────────┘└───┘└───┘»\n",
       "«                                          \n",
       "«q_0: ─────────────────────────────────────\n",
       "«                                          \n",
       "«q_1: ──────────────────────────────────■──\n",
       "«     ┌──────────────────────────────┐┌─┴─┐\n",
       "«q_2: ┤ P(2.0*(π - x[1])*(π - x[2])) ├┤ X ├\n",
       "«     └──────────────────────────────┘└───┘</pre>"
      ],
      "text/plain": [
       "     ┌───┐┌─────────────┐                                               »\n",
       "q_0: ┤ H ├┤ P(2.0*x[0]) ├──■────────────────────────────────────■────■──»\n",
       "     ├───┤├─────────────┤┌─┴─┐┌──────────────────────────────┐┌─┴─┐  │  »\n",
       "q_1: ┤ H ├┤ P(2.0*x[1]) ├┤ X ├┤ P(2.0*(π - x[0])*(π - x[1])) ├┤ X ├──┼──»\n",
       "     ├───┤├─────────────┤└───┘└──────────────────────────────┘└───┘┌─┴─┐»\n",
       "q_2: ┤ H ├┤ P(2.0*x[2]) ├──────────────────────────────────────────┤ X ├»\n",
       "     └───┘└─────────────┘                                          └───┘»\n",
       "«                                               »\n",
       "«q_0: ──────────────────────────────────■───────»\n",
       "«                                       │       »\n",
       "«q_1: ──────────────────────────────────┼────■──»\n",
       "«     ┌──────────────────────────────┐┌─┴─┐┌─┴─┐»\n",
       "«q_2: ┤ P(2.0*(π - x[0])*(π - x[2])) ├┤ X ├┤ X ├»\n",
       "«     └──────────────────────────────┘└───┘└───┘»\n",
       "«                                          \n",
       "«q_0: ─────────────────────────────────────\n",
       "«                                          \n",
       "«q_1: ──────────────────────────────────■──\n",
       "«     ┌──────────────────────────────┐┌─┴─┐\n",
       "«q_2: ┤ P(2.0*(π - x[1])*(π - x[2])) ├┤ X ├\n",
       "«     └──────────────────────────────┘└───┘"
      ]
     },
     "execution_count": 103,
     "metadata": {},
     "output_type": "execute_result"
    }
   ],
   "source": [
    "f2.decompose().draw()\n"
   ]
  },
  {
   "cell_type": "code",
   "execution_count": null,
   "id": "5069256c-f760-46d2-96cd-416cdb8e08ff",
   "metadata": {},
   "outputs": [],
   "source": []
  },
  {
   "cell_type": "code",
   "execution_count": null,
   "id": "c9ac86d1-18aa-4444-ac09-9d35c549efa5",
   "metadata": {},
   "outputs": [],
   "source": []
  }
 ],
 "metadata": {
  "kernelspec": {
   "display_name": "Python 3 (ipykernel)",
   "language": "python",
   "name": "python3"
  },
  "language_info": {
   "codemirror_mode": {
    "name": "ipython",
    "version": 3
   },
   "file_extension": ".py",
   "mimetype": "text/x-python",
   "name": "python",
   "nbconvert_exporter": "python",
   "pygments_lexer": "ipython3",
   "version": "3.10.13"
  }
 },
 "nbformat": 4,
 "nbformat_minor": 5
}
