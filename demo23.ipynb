{
 "cells": [
  {
   "cell_type": "code",
   "execution_count": 128,
   "id": "e86e252b-a3a9-418a-abd2-6a6b8248a6a8",
   "metadata": {},
   "outputs": [],
   "source": [
    "import numpy as np\n",
    "import cupy as cp\n",
    "import pandas as pd\n",
    "import time\n",
    "import matplotlib.pyplot as plt\n",
    "from itertools import combinations,product\n",
    "from multiprocessing import Pool\n",
    "from sklearn.svm import SVC\n",
    "from sklearn.model_selection import train_test_split\n",
    "from sklearn.decomposition import PCA\n",
    "from sklearn.preprocessing import StandardScaler, MinMaxScaler\n",
    "from sklearn.datasets import load_digits, fetch_openml\n",
    "from sklearn.model_selection import GridSearchCV\n",
    "from qiskit.circuit.library import PauliFeatureMap, ZFeatureMap, ZZFeatureMap\n",
    "from qiskit_machine_learning.kernels import QuantumKernel\n",
    "from qiskit import QuantumCircuit, transpile, Aer\n",
    "from qiskit.circuit import ParameterVector\n",
    "from cuquantum import *\n",
    "import time"
   ]
  },
  {
   "cell_type": "code",
   "execution_count": 129,
   "id": "48b95aa5-b70b-44e0-b4a4-d76a032bfd63",
   "metadata": {},
   "outputs": [],
   "source": [
    "## First, get 1k MNIST data of only 2-type each. And  \n",
    "\n",
    "mnist = fetch_openml('mnist_784')\n",
    "X = mnist.data.to_numpy()\n",
    "Y = mnist.target.to_numpy().astype(int)\n",
    "class_list = [7,9]\n",
    "c01 = np.where((Y == class_list[0])|(Y == class_list[1]))\n",
    "X,Y = X[c01],Y[c01]\n",
    "MAX=500\n",
    "data_train, label_train = X[:MAX],Y[:MAX]\n",
    "X_train, X_val, Y_train, Y_val = train_test_split(data_train, label_train, test_size = 0.2, random_state=255)"
   ]
  },
  {
   "cell_type": "code",
   "execution_count": 130,
   "id": "23507c00-d6f8-4f71-9f83-3f91dc98617d",
   "metadata": {},
   "outputs": [
    {
     "name": "stdout",
     "output_type": "stream",
     "text": [
      "train & val shape: (400, 784) (100, 784)\n",
      "train class count: 211 189\n",
      "test  class count: 52 48\n"
     ]
    }
   ],
   "source": [
    "print('train & val shape:',X_train.shape, X_val.shape)\n",
    "print('train class count:',len(Y_train[np.where(Y_train==class_list[0])]),len(Y_train[np.where(Y_train==class_list[1])]))\n",
    "print('test  class count:',len(Y_val[np.where(Y_val==class_list[0])]),len(Y_val[np.where(Y_val==class_list[1])]))"
   ]
  },
  {
   "cell_type": "code",
   "execution_count": 131,
   "id": "e5c456b5-53eb-4bc7-b6ff-e56e39ade934",
   "metadata": {},
   "outputs": [],
   "source": [
    "nb1,nb2=100,50\n",
    "def data_prepare(n_dim, sample_train, sample_test):\n",
    "    std_scale = StandardScaler().fit(sample_train)\n",
    "    data = std_scale.transform(sample_train)\n",
    "    sample_train = std_scale.transform(sample_train)\n",
    "    sample_test = std_scale.transform(sample_test)\n",
    "    pca = PCA(n_components=n_dim, svd_solver=\"auto\").fit(data)\n",
    "    sample_train = pca.transform(sample_train)\n",
    "    sample_test = pca.transform(sample_test)\n",
    "    samples = np.append(sample_train, sample_test, axis=0)\n",
    "    minmax_scale = MinMaxScaler((-1, 1)).fit(samples)\n",
    "    sample_train = minmax_scale.transform(sample_train)[:nb1]\n",
    "    sample_test = minmax_scale.transform(sample_test)[:nb2]\n",
    "    return sample_train, sample_test\n",
    "def svm_score(sample_train,labels_train,sample_val,labels_val):\n",
    "    parameters = {'C':[1], 'gamma': [0.001, 0.1, 0.25, 0.5, 0.75, 1, 1.25, 2.5, 3.75, 5, 6.25, 7.5, 8.75, 10, 50, 100, 1000]}\n",
    "    svc_grid_search = SVC(kernel=\"rbf\")\n",
    "    clf = GridSearchCV(svc_grid_search, param_grid=parameters, scoring='accuracy')\n",
    "    clf.fit(sample_train,labels_train)\n",
    "    result1=clf.score(sample_train,labels_train)\n",
    "    result2=clf.score(sample_val,labels_val)\n",
    "    return result1, result2"
   ]
  },
  {
   "cell_type": "code",
   "execution_count": 132,
   "id": "fdf92e5e-98ee-4836-b3ef-94fa4d1b0107",
   "metadata": {},
   "outputs": [
    {
     "name": "stdout",
     "output_type": "stream",
     "text": [
      "10 0.97 0.98\n"
     ]
    }
   ],
   "source": [
    "for q in [10]:\n",
    "    n_dim = q\n",
    "    data_train, data_val  = data_prepare(n_dim, X_train, X_val)\n",
    "    score1, score2 = svm_score(data_train,Y_train[:nb1],data_val,Y_val[:nb2])\n",
    "    print(n_dim,score1, score2)\n",
    "#for q in [200,300,400,500,600,784]:\n",
    "#    n_dim = q\n",
    "#    data_train, data_val  = data_prepare(n_dim, X_train, X_val)\n",
    "#    score1, score2 = svm_score(data_train,Y_train[:100],data_val,Y_val[:50])\n",
    "#    print(n_dim,score1, score2)"
   ]
  },
  {
   "cell_type": "markdown",
   "id": "cfa67662-b909-401f-bf6a-5e4f407fa01a",
   "metadata": {},
   "source": [
    "---"
   ]
  },
  {
   "cell_type": "markdown",
   "id": "fb8e3f6e-21d8-4ca2-9448-c3b1cdecd1ec",
   "metadata": {},
   "source": [
    "## statevector simulation"
   ]
  },
  {
   "cell_type": "code",
   "execution_count": 125,
   "id": "b92f4a58-a090-4123-bf97-347e2b7c044b",
   "metadata": {},
   "outputs": [],
   "source": [
    "def make_bsp(n_dim):\n",
    "    param = ParameterVector(\"p\",n_dim)\n",
    "    bsp_qc = QuantumCircuit(n_dim)\n",
    "    bsp_qc.h(list(range(n_dim)))\n",
    "    i = 0\n",
    "    for q in range(n_dim):\n",
    "        bsp_qc.rz(param.params[q],[q])\n",
    "        bsp_qc.ry(param.params[q],[q])\n",
    "    for q in range(n_dim-1):\n",
    "        bsp_qc.cx(0+i, 1+i)\n",
    "        i+=1\n",
    "    for q in range(n_dim):\n",
    "        bsp_qc.rz(param.params[q],[q])\n",
    "    return bsp_qc\n",
    "def all_circuits_parallel(y_t, x_t, indices_list, n_dim, kernel, num_cpu):\n",
    "    with Pool(processes=num_cpu, maxtasksperchild=100) as pool:\n",
    "        circuits = pool.starmap(kernel.construct_circuit, [(y_t[i1-1], x_t[i2-1],False) for i1, i2 in indices_list])\n",
    "    return circuits\n",
    "def kernel_matrix_svsm(y_t, x_t, circuit,indices_list, simulator, mode=None):\n",
    "    kernel_matrix = np.zeros((len(y_t),len(x_t)))\n",
    "    i = -1\n",
    "    for i1, i2 in indices_list:\n",
    "        i += 1\n",
    "        qc = circuit[i]\n",
    "        qc.save_statevector()\n",
    "        circ = transpile(qc, simulator)\n",
    "        result = simulator.run(circ).result()\n",
    "        amp = abs(result.get_statevector()[0]) ** 2\n",
    "        kernel_matrix[i1-1][i2-1] = np.round(amp,8)\n",
    "    if mode == 'train':\n",
    "        kernel_matrix = kernel_matrix + kernel_matrix.T+np.diag(np.ones((len(x_t))))\n",
    "    return kernel_matrix"
   ]
  },
  {
   "cell_type": "code",
   "execution_count": 56,
   "id": "54f9ea32-fe0e-4667-ad08-1f93bfa46e47",
   "metadata": {},
   "outputs": [],
   "source": [
    "simulator = Aer.get_backend('aer_simulator_statevector')\n",
    "simulator.set_option('cusvaer_enable', False)\n",
    "simulator.set_option('precision', 'double')"
   ]
  },
  {
   "cell_type": "code",
   "execution_count": 57,
   "id": "3a937ea9-a108-4e8e-a297-e4cbb1cfecd3",
   "metadata": {},
   "outputs": [],
   "source": [
    "n_dim = 10\n",
    "data_train, data_val  = data_prepare(n_dim, X_train, X_val)"
   ]
  },
  {
   "cell_type": "code",
   "execution_count": 58,
   "id": "a7089ffe-69df-4f94-b585-00772346eebe",
   "metadata": {},
   "outputs": [],
   "source": [
    "bsp_qc = make_bsp(n_dim)\n",
    "bsp_kernel_svsm = QuantumKernel(feature_map=bsp_qc, quantum_instance=simulator)"
   ]
  },
  {
   "cell_type": "code",
   "execution_count": 59,
   "id": "1ff0f98d-71d9-4de7-9b5a-63360288a9b9",
   "metadata": {},
   "outputs": [
    {
     "data": {
      "text/plain": [
       "(45, 10)"
      ]
     },
     "execution_count": 59,
     "metadata": {},
     "output_type": "execute_result"
    }
   ],
   "source": [
    "indices_list_t = list(combinations(range(1, len(data_train) + 1), 2))\n",
    "indices_list_v = list(product(range(1, len(data_val) + 1),range(1, len(data_train) + 1)))\n",
    "len(indices_list_t),len(indices_list_v)"
   ]
  },
  {
   "cell_type": "code",
   "execution_count": 60,
   "id": "6fe3d4a5-a12f-48c1-acdf-faeeb9276757",
   "metadata": {},
   "outputs": [
    {
     "data": {
      "text/plain": [
       "(45, 10)"
      ]
     },
     "execution_count": 60,
     "metadata": {},
     "output_type": "execute_result"
    }
   ],
   "source": [
    "circuit_train = all_circuits_parallel(data_train, data_train, indices_list_t, n_dim, bsp_kernel_svsm, 10)\n",
    "circuit_val   = all_circuits_parallel(data_val, data_train, indices_list_v, n_dim, bsp_kernel_svsm, 10)\n",
    "len(circuit_train),len(circuit_val)"
   ]
  },
  {
   "cell_type": "code",
   "execution_count": 61,
   "id": "7ca13d71-d420-4eeb-9b4b-0444bf77f011",
   "metadata": {},
   "outputs": [],
   "source": [
    "svsm_kernel_matrix_train = kernel_matrix_svsm(data_train, data_train, circuit_train, indices_list_t, simulator, mode=\"train\")\n",
    "svsm_kernel_matrix_test  = kernel_matrix_svsm(data_val, data_train, circuit_val, indices_list_v, simulator)"
   ]
  },
  {
   "cell_type": "code",
   "execution_count": 62,
   "id": "3414dffe-0183-4e8a-808d-c17bebb407f8",
   "metadata": {},
   "outputs": [
    {
     "data": {
      "text/plain": [
       "4.758985205910449e-09"
      ]
     },
     "execution_count": 62,
     "metadata": {},
     "output_type": "execute_result"
    }
   ],
   "source": [
    "matrix_train = bsp_kernel_svsm.evaluate(x_vec=data_train)\n",
    "(svsm_kernel_matrix_train-matrix_train).max()"
   ]
  },
  {
   "cell_type": "code",
   "execution_count": 63,
   "id": "0236119b-169f-4f3d-9709-3272890ec9f4",
   "metadata": {},
   "outputs": [
    {
     "data": {
      "text/plain": [
       "4.337089798411853e-09"
      ]
     },
     "execution_count": 63,
     "metadata": {},
     "output_type": "execute_result"
    }
   ],
   "source": [
    "matrix_test = bsp_kernel_svsm.evaluate(data_val,data_train)\n",
    "(svsm_kernel_matrix_test-matrix_test).max()"
   ]
  },
  {
   "cell_type": "code",
   "execution_count": 64,
   "id": "d81ef1c6-bf9e-41ed-a629-ff04508fc69c",
   "metadata": {},
   "outputs": [
    {
     "data": {
      "image/png": "[encoded data removed]",
      "text/plain": [
       "<Figure size 1000x500 with 2 Axes>"
      ]
     },
     "metadata": {},
     "output_type": "display_data"
    }
   ],
   "source": [
    "fig, axs = plt.subplots(1, 2, figsize=(10, 5))\n",
    "axs[0].imshow(np.asmatrix(matrix_train), interpolation=\"nearest\", origin=\"upper\", cmap=\"bwr\")\n",
    "axs[0].set_title(\"matrix_train\")\n",
    "axs[1].imshow(np.asmatrix(svsm_kernel_matrix_train), interpolation=\"nearest\", origin=\"upper\", cmap=\"bwr\")\n",
    "axs[1].set_title(\"svsm_kernel_matrix_train\")\n",
    "plt.show()"
   ]
  },
  {
   "cell_type": "code",
   "execution_count": 65,
   "id": "30f472a7-915e-447a-acce-e2357abaece5",
   "metadata": {},
   "outputs": [
    {
     "data": {
      "image/png": "[encoded data removed]",
      "text/plain": [
       "<Figure size 1000x500 with 2 Axes>"
      ]
     },
     "metadata": {},
     "output_type": "display_data"
    }
   ],
   "source": [
    "fig, axs = plt.subplots(1, 2, figsize=(10, 5))\n",
    "axs[0].imshow(np.asmatrix(matrix_test), interpolation=\"nearest\", origin=\"upper\", cmap=\"RdYlGn\")\n",
    "axs[0].set_title(\"matrix_test\")\n",
    "axs[1].imshow(np.asmatrix(svsm_kernel_matrix_test), interpolation=\"nearest\", origin=\"upper\", cmap=\"RdYlGn\")\n",
    "axs[1].set_title(\"svsm_kernel_matrix_test\")\n",
    "plt.show()"
   ]
  },
  {
   "cell_type": "code",
   "execution_count": 35,
   "id": "f7eecc0e-a6af-4679-b4a3-4dee7c415905",
   "metadata": {},
   "outputs": [
    {
     "name": "stdout",
     "output_type": "stream",
     "text": [
      "0.9 0.0\n"
     ]
    }
   ],
   "source": [
    "svc = SVC(kernel=\"precomputed\")\n",
    "svc.fit(svsm_kernel_matrix_train,Y_train[:nb1])\n",
    "result1 = svc.score(svsm_kernel_matrix_train,Y_train[:nb1])\n",
    "result2 = svc.score(svsm_kernel_matrix_test,Y_val[:nb2])\n",
    "print(result1, result2)"
   ]
  },
  {
   "cell_type": "markdown",
   "id": "203bacfc-5118-4f13-9128-321e9a75825e",
   "metadata": {},
   "source": [
    "---"
   ]
  },
  {
   "cell_type": "markdown",
   "id": "52ff33aa-0b7d-4aa6-a406-4eeadb671fa9",
   "metadata": {},
   "source": [
    "## tensornetwork simulation"
   ]
  },
  {
   "cell_type": "code",
   "execution_count": 67,
   "id": "2b384fa8-dcbd-4a00-8d40-f0871b9fe4e1",
   "metadata": {},
   "outputs": [],
   "source": [
    "def get_exp(x_t, n_dim, kernel):\n",
    "    circuit = kernel.construct_circuit(x_t[0],x_t[0],measurement=False)\n",
    "    converter = CircuitToEinsum(circuit, backend='numpy')\n",
    "    a = str(0).zfill(n_dim)\n",
    "    exp, _ = converter.amplitude(a)  \n",
    "    return exp\n",
    "def get_operand(circuit,n_dim):\n",
    "    a = str(0).zfill(n_dim)\n",
    "    converter = CircuitToEinsum(circuit, backend='numpy')\n",
    "    _, oper = converter.amplitude(a)  \n",
    "    return oper    \n",
    "def all_operands_parallel(circuit, n_dim, num_cpu):\n",
    "    with Pool(processes=num_cpu, maxtasksperchild=100) as pool:\n",
    "        indices_list = list(range(len(circuit)))\n",
    "        operands = pool.starmap(get_operand, [(circuit[i],n_dim) for i in indices_list])\n",
    "    return operands\n",
    "def kernel_matrix_tnsm(y_t, x_t, exp, opers, indices_list, options, mode=None):\n",
    "    kernel_matrix = np.zeros((len(y_t),len(x_t)))\n",
    "    i, oper = -1, opers[0]\n",
    "    with Network(exp, *oper, options=options) as tn:\n",
    "        tn.contract_path()\n",
    "        for i1, i2 in indices_list:\n",
    "            i += 1\n",
    "            tn.reset_operands(*opers[i])     \n",
    "            amp_tn = abs(tn.contract()) ** 2\n",
    "            kernel_matrix[i1-1][i2-1] = np.round(amp_tn,8) \n",
    "        tn.free()\n",
    "    if mode == 'train':\n",
    "        kernel_matrix = kernel_matrix + kernel_matrix.T+np.diag(np.ones((len(x_t))))\n",
    "    return kernel_matrix"
   ]
  },
  {
   "cell_type": "code",
   "execution_count": 80,
   "id": "91311eb8-efb9-4dea-ae70-697cd6e3bdaf",
   "metadata": {},
   "outputs": [],
   "source": [
    "n_dim = 10\n",
    "data_train, data_val  = data_prepare(n_dim, X_train, X_val)"
   ]
  },
  {
   "cell_type": "code",
   "execution_count": 81,
   "id": "27e31a60-eefe-4bb8-9b32-a51c9a7aaa24",
   "metadata": {},
   "outputs": [],
   "source": [
    "bsp_qc = make_bsp(n_dim)\n",
    "bsp_kernel_tnsm = QuantumKernel(feature_map=bsp_qc)"
   ]
  },
  {
   "cell_type": "code",
   "execution_count": 82,
   "id": "c565dfe1-7caf-4be7-a030-4be3aef33017",
   "metadata": {},
   "outputs": [
    {
     "data": {
      "text/plain": [
       "(45, 10)"
      ]
     },
     "execution_count": 82,
     "metadata": {},
     "output_type": "execute_result"
    }
   ],
   "source": [
    "indices_list_t = list(combinations(range(1, len(data_train) + 1), 2))\n",
    "indices_list_v = list(product(range(1, len(data_val) + 1),range(1, len(data_train) + 1)))\n",
    "len(indices_list_t),len(indices_list_v)"
   ]
  },
  {
   "cell_type": "code",
   "execution_count": 83,
   "id": "0ae3e5fc-1752-427b-b345-cae40c24d968",
   "metadata": {},
   "outputs": [
    {
     "data": {
      "text/plain": [
       "(45, 10)"
      ]
     },
     "execution_count": 83,
     "metadata": {},
     "output_type": "execute_result"
    }
   ],
   "source": [
    "circuit_train = all_circuits_parallel(data_train, data_train, indices_list_t, n_dim, bsp_kernel_tnsm, 10)\n",
    "circuit_val   = all_circuits_parallel(data_val, data_train, indices_list_v, n_dim, bsp_kernel_tnsm, 10)\n",
    "len(circuit_train),len(circuit_val)"
   ]
  },
  {
   "cell_type": "code",
   "execution_count": 84,
   "id": "48037045-1adb-438b-8059-880d508229fc",
   "metadata": {},
   "outputs": [
    {
     "data": {
      "text/plain": [
       "371"
      ]
     },
     "execution_count": 84,
     "metadata": {},
     "output_type": "execute_result"
    }
   ],
   "source": [
    "exp = get_exp(data_train, n_dim, bsp_kernel_tnsm)\n",
    "len(exp)\n"
   ]
  },
  {
   "cell_type": "code",
   "execution_count": 85,
   "id": "9e6a19f0-ad9e-4d66-ad85-19c45ee8bc0a",
   "metadata": {},
   "outputs": [
    {
     "data": {
      "text/plain": [
       "(45, 10)"
      ]
     },
     "execution_count": 85,
     "metadata": {},
     "output_type": "execute_result"
    }
   ],
   "source": [
    "oper_train = all_operands_parallel(circuit_train, n_dim, 10)\n",
    "oper_val   = all_operands_parallel(circuit_val,n_dim,10)\n",
    "len(oper_train),len(oper_val)"
   ]
  },
  {
   "cell_type": "code",
   "execution_count": 107,
   "id": "30fd2213-a6a9-4b74-83aa-bc54350a5b4b",
   "metadata": {},
   "outputs": [
    {
     "name": "stdout",
     "output_type": "stream",
     "text": [
      "[[ 0.9733117 +0.j -0.22948712+0.j]\n",
      " [ 0.22948712+0.j  0.9733117 +0.j]]\n"
     ]
    }
   ],
   "source": [
    "print(oper_train[1][80])\n"
   ]
  },
  {
   "cell_type": "code",
   "execution_count": 110,
   "id": "b4e48caa-4eb2-4f3e-8bc8-474b325b27b4",
   "metadata": {},
   "outputs": [
    {
     "name": "stdout",
     "output_type": "stream",
     "text": [
      "[[-0.03406136+0.j -0.11374576+0.j]\n",
      " [ 0.11374576+0.j -0.03406136+0.j]]\n"
     ]
    }
   ],
   "source": [
    "print(oper_train[0][80]-oper_train[1][80])\n"
   ]
  },
  {
   "cell_type": "code",
   "execution_count": 74,
   "id": "c80d9104-a688-4743-95a5-87fc36b666ac",
   "metadata": {},
   "outputs": [],
   "source": [
    "#oper = oper_train[0]\n",
    "options = NetworkOptions(blocking=\"auto\")\n",
    "#network = Network(exp, *oper,options=options)\n",
    "#path, info = network.contract_path()"
   ]
  },
  {
   "cell_type": "code",
   "execution_count": 75,
   "id": "ab7ca37d-e1fa-4517-ac4f-4145346c6f78",
   "metadata": {
    "scrolled": true
   },
   "outputs": [],
   "source": [
    "tnsm_kernel_matrix_train = kernel_matrix_tnsm(data_train, data_train, exp, oper_train, indices_list_t, options, mode='train')\n",
    "tnsm_kernel_matrix_test  = kernel_matrix_tnsm(data_val, data_train, exp, oper_val, indices_list_v, options, mode=None)"
   ]
  },
  {
   "cell_type": "code",
   "execution_count": 76,
   "id": "88a7d9b5-0255-4d04-97e9-9617bc307887",
   "metadata": {},
   "outputs": [
    {
     "data": {
      "text/plain": [
       "(10, 10)"
      ]
     },
     "execution_count": 76,
     "metadata": {},
     "output_type": "execute_result"
    }
   ],
   "source": [
    "tnsm_kernel_matrix_train.shape"
   ]
  },
  {
   "cell_type": "code",
   "execution_count": 77,
   "id": "95c985a5-7218-4bec-99b5-2e10148e47c1",
   "metadata": {},
   "outputs": [
    {
     "data": {
      "text/plain": [
       "0.010749300000000017"
      ]
     },
     "execution_count": 77,
     "metadata": {},
     "output_type": "execute_result"
    }
   ],
   "source": [
    "(tnsm_kernel_matrix_train-svsm_kernel_matrix_train).max()"
   ]
  },
  {
   "cell_type": "code",
   "execution_count": 78,
   "id": "5c8fdb5d-face-49b6-be03-27e1faa903ea",
   "metadata": {},
   "outputs": [
    {
     "data": {
      "text/plain": [
       "0.0021075299999999686"
      ]
     },
     "execution_count": 78,
     "metadata": {},
     "output_type": "execute_result"
    }
   ],
   "source": [
    "(tnsm_kernel_matrix_test-svsm_kernel_matrix_test).max()"
   ]
  },
  {
   "cell_type": "code",
   "execution_count": 79,
   "id": "aa3e3911-7588-408b-bdc2-f6220beca5ef",
   "metadata": {},
   "outputs": [
    {
     "data": {
      "image/png": "[encoded data removed]",
      "text/plain": [
       "<Figure size 1000x500 with 2 Axes>"
      ]
     },
     "metadata": {},
     "output_type": "display_data"
    }
   ],
   "source": [
    "fig, axs = plt.subplots(1, 2, figsize=(10, 5))\n",
    "axs[0].imshow(np.asmatrix(svsm_kernel_matrix_train), interpolation=\"nearest\", origin=\"upper\", cmap=\"bwr\")\n",
    "axs[0].set_title(\"svsm_kernel_matrix_train\")\n",
    "axs[1].imshow(np.asmatrix(tnsm_kernel_matrix_train), interpolation=\"nearest\", origin=\"upper\", cmap=\"bwr\")\n",
    "axs[1].set_title(f\"tnsm_kernel_matrix_train\\n erro:{(tnsm_kernel_matrix_train-svsm_kernel_matrix_train).max()}\")\n",
    "plt.show()"
   ]
  },
  {
   "cell_type": "code",
   "execution_count": null,
   "id": "2abcc41b-1ff6-4ed3-8fb9-d0dbc3ca56f7",
   "metadata": {},
   "outputs": [],
   "source": []
  },
  {
   "cell_type": "code",
   "execution_count": null,
   "id": "8ab83a1f-ea77-4303-a6eb-808e482319df",
   "metadata": {},
   "outputs": [],
   "source": []
  }
 ],
 "metadata": {
  "kernelspec": {
   "display_name": "Python 3 (ipykernel)",
   "language": "python",
   "name": "python3"
  },
  "language_info": {
   "codemirror_mode": {
    "name": "ipython",
    "version": 3
   },
   "file_extension": ".py",
   "mimetype": "text/x-python",
   "name": "python",
   "nbconvert_exporter": "python",
   "pygments_lexer": "ipython3",
   "version": "3.10.13"
  }
 },
 "nbformat": 4,
 "nbformat_minor": 5
}
