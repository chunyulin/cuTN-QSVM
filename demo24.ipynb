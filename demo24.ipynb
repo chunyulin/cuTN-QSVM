{
 "cells": [
  {
   "cell_type": "code",
   "execution_count": 34,
   "id": "e86e252b-a3a9-418a-abd2-6a6b8248a6a8",
   "metadata": {},
   "outputs": [],
   "source": [
    "import numpy as np\n",
    "import cupy as cp\n",
    "import pandas as pd\n",
    "import time\n",
    "import matplotlib.pyplot as plt\n",
    "from itertools import combinations,product\n",
    "from multiprocessing import Pool\n",
    "from sklearn.svm import SVC\n",
    "from sklearn.model_selection import train_test_split\n",
    "from sklearn.decomposition import PCA\n",
    "from sklearn.preprocessing import StandardScaler, MinMaxScaler\n",
    "from sklearn.datasets import load_digits, fetch_openml\n",
    "from sklearn.model_selection import GridSearchCV\n",
    "from qiskit import QuantumCircuit, transpile\n",
    "from qiskit_aer import Aer\n",
    "from qiskit.circuit import ParameterVector\n",
    "import cuquantum"
   ]
  },
  {
   "cell_type": "code",
   "execution_count": 35,
   "id": "48b95aa5-b70b-44e0-b4a4-d76a032bfd63",
   "metadata": {},
   "outputs": [],
   "source": [
    "## First, get 1k MNIST data of only 2-type each. And  \n",
    "\n",
    "mnist = fetch_openml('mnist_784')\n",
    "X = mnist.data.to_numpy()\n",
    "Y = mnist.target.to_numpy().astype(int)\n",
    "class_list = [7,9]\n",
    "c01 = np.where((Y == class_list[0])|(Y == class_list[1]))\n",
    "X,Y = X[c01],Y[c01]\n",
    "MAX=500\n",
    "data_train, label_train = X[:MAX],Y[:MAX]\n",
    "X_train, X_val, Y_train, Y_val = train_test_split(data_train, label_train, test_size = 0.2, random_state=255)"
   ]
  },
  {
   "cell_type": "code",
   "execution_count": 36,
   "id": "23507c00-d6f8-4f71-9f83-3f91dc98617d",
   "metadata": {},
   "outputs": [
    {
     "name": "stdout",
     "output_type": "stream",
     "text": [
      "train & val shape: (80, 784) (20, 784)\n",
      "train class count: 39 41\n",
      "test  class count: 9 11\n"
     ]
    }
   ],
   "source": [
    "print('train & val shape:',X_train.shape, X_val.shape)\n",
    "print('train class count:',len(Y_train[np.where(Y_train==class_list[0])]),len(Y_train[np.where(Y_train==class_list[1])]))\n",
    "print('test  class count:',len(Y_val[np.where(Y_val==class_list[0])]),len(Y_val[np.where(Y_val==class_list[1])]))"
   ]
  },
  {
   "cell_type": "code",
   "execution_count": 37,
   "id": "e5c456b5-53eb-4bc7-b6ff-e56e39ade934",
   "metadata": {},
   "outputs": [],
   "source": [
    "nb1,nb2=10,5\n",
    "def data_prepare(n_dim, sample_train, sample_test):\n",
    "    std_scale = StandardScaler().fit(sample_train)\n",
    "    data = std_scale.transform(sample_train)\n",
    "    sample_train = std_scale.transform(sample_train)\n",
    "    sample_test = std_scale.transform(sample_test)\n",
    "    pca = PCA(n_components=n_dim, svd_solver=\"full\").fit(data)\n",
    "    sample_train = pca.transform(sample_train)\n",
    "    sample_test = pca.transform(sample_test)\n",
    "    samples = np.append(sample_train, sample_test, axis=0)\n",
    "    minmax_scale = MinMaxScaler((-1, 1)).fit(samples)\n",
    "    sample_train = minmax_scale.transform(sample_train)[:nb1]\n",
    "    sample_test = minmax_scale.transform(sample_test)[:nb2]\n",
    "    return sample_train, sample_test\n",
    "def svm_score(sample_train,labels_train,sample_val,labels_val):\n",
    "    parameters = {'C':[1], 'gamma': [0.001, 0.1, 0.25, 0.5, 0.75, 1, 1.25, 2.5, 3.75, 5, 6.25, 7.5, 8.75, 10, 50, 100, 1000]}\n",
    "    svc_grid_search = SVC(kernel=\"rbf\")\n",
    "    clf = GridSearchCV(svc_grid_search, param_grid=parameters, scoring='accuracy')\n",
    "    clf.fit(sample_train,labels_train)\n",
    "    result1=clf.score(sample_train,labels_train)\n",
    "    result2=clf.score(sample_val,labels_val)\n",
    "    return result1, result2"
   ]
  },
  {
   "cell_type": "code",
   "execution_count": 38,
   "id": "fdf92e5e-98ee-4836-b3ef-94fa4d1b0107",
   "metadata": {},
   "outputs": [
    {
     "name": "stderr",
     "output_type": "stream",
     "text": [
      "/opt/conda/envs/cuquantum-24.03/lib/python3.10/site-packages/sklearn/model_selection/_split.py:776: UserWarning: The least populated class in y has only 4 members, which is less than n_splits=5.\n",
      "  warnings.warn(\n"
     ]
    },
    {
     "name": "stdout",
     "output_type": "stream",
     "text": [
      "2 0.9 0.6\n"
     ]
    }
   ],
   "source": [
    "for q in [2]:\n",
    "    n_dim = q\n",
    "    data_train, data_val  = data_prepare(n_dim, X_train, X_val)\n",
    "    score1, score2 = svm_score(data_train,Y_train[:nb1],data_val,Y_val[:nb2])\n",
    "    print(n_dim,score1, score2)\n",
    "#for q in [200,300,400,500,600,784]:\n",
    "#    n_dim = q\n",
    "#    data_train, data_val  = data_prepare(n_dim, X_train, X_val)\n",
    "#    score1, score2 = svm_score(data_train,Y_train[:100],data_val,Y_val[:50])\n",
    "#    print(n_dim,score1, score2)"
   ]
  },
  {
   "cell_type": "markdown",
   "id": "2d6efcd2-78ce-4d54-bc3e-546900643bfe",
   "metadata": {},
   "source": [
    "## statevector simulation"
   ]
  },
  {
   "cell_type": "code",
   "execution_count": 39,
   "id": "b92f4a58-a090-4123-bf97-347e2b7c044b",
   "metadata": {},
   "outputs": [],
   "source": [
    "def make_bsp(n_dim):\n",
    "    param = ParameterVector(\"p\",n_dim)\n",
    "    bsp_qc = QuantumCircuit(n_dim)\n",
    "    bsp_qc.h(list(range(n_dim)))\n",
    "    i = 0\n",
    "    for q in range(n_dim):\n",
    "        bsp_qc.rz(param.params[q],[q])\n",
    "        bsp_qc.ry(param.params[q],[q])\n",
    "    for q in range(n_dim-1):\n",
    "        bsp_qc.cx(0+i, 1+i)\n",
    "        i+=1\n",
    "    for q in range(n_dim):\n",
    "        bsp_qc.rz(param.params[q],[q])\n",
    "    return bsp_qc\n",
    "def all_circuits_parallel(y_t, x_t, indices_list, n_dim, num_cpu):\n",
    "    psix = make_bsp(n_dim)\n",
    "    #psix = ZZFeatureMap(feature_dimension=n_dim, reps=1, entanglement=\"linear\")\n",
    "    psiy = psix.inverse()\n",
    "    with Pool(processes=num_cpu, maxtasksperchild=100) as pool:\n",
    "        circuits = [ psix.assign_parameters(x_t[i2-1]).compose(psiy.assign_parameters(y_t[i1-1])) for i1, i2 in indices_list ]        \n",
    "        #circuits = pool.starmap(kernel.construct_circuit, [(y_t[i1-1], x_t[i2-1],False) for i1, i2 in indices_list])\n",
    "    return circuits\n",
    "def kernel_matrix_svsm(y_t, x_t, circuit,indices_list, simulator, mode=None):\n",
    "    kernel_matrix = np.zeros((len(y_t),len(x_t)))\n",
    "    i = -1\n",
    "    for i1, i2 in indices_list:\n",
    "        i += 1\n",
    "        qc = circuit[i]\n",
    "        qc.save_statevector()\n",
    "        circ = transpile(qc, simulator)\n",
    "        result = simulator.run(circ).result()\n",
    "        amp = abs(result.get_statevector()[0]) ** 2\n",
    "        kernel_matrix[i1-1][i2-1] = np.round(amp,8)\n",
    "    if mode == 'train':\n",
    "        kernel_matrix = kernel_matrix + kernel_matrix.T+np.diag(np.ones((len(x_t))))\n",
    "    return kernel_matrix"
   ]
  },
  {
   "cell_type": "code",
   "execution_count": 40,
   "id": "54f9ea32-fe0e-4667-ad08-1f93bfa46e47",
   "metadata": {},
   "outputs": [],
   "source": [
    "simulator = Aer.get_backend('aer_simulator_statevector')\n",
    "#simulator.set_option('cusvaer_enabled', False)\n",
    "#simulator.set_options(method='statevector', device='GPU')\n",
    "simulator.set_option('precision', 'double')"
   ]
  },
  {
   "cell_type": "code",
   "execution_count": 41,
   "id": "3a937ea9-a108-4e8e-a297-e4cbb1cfecd3",
   "metadata": {},
   "outputs": [],
   "source": [
    "n_dim = 10\n",
    "data_train, data_val  = data_prepare(n_dim, X_train, X_val)"
   ]
  },
  {
   "cell_type": "code",
   "execution_count": 42,
   "id": "1ff0f98d-71d9-4de7-9b5a-63360288a9b9",
   "metadata": {},
   "outputs": [
    {
     "data": {
      "text/plain": [
       "(45, 50)"
      ]
     },
     "execution_count": 42,
     "metadata": {},
     "output_type": "execute_result"
    }
   ],
   "source": [
    "psix = make_bsp(n_dim)\n",
    "psiy = psix.inverse()\n",
    "indices_list_t = list(combinations(range(1, len(data_train) + 1), 2))\n",
    "indices_list_v = list(product(range(1, len(data_val) + 1),range(1, len(data_train) + 1)))\n",
    "len(indices_list_t),len(indices_list_v)"
   ]
  },
  {
   "cell_type": "code",
   "execution_count": 43,
   "id": "6fe3d4a5-a12f-48c1-acdf-faeeb9276757",
   "metadata": {},
   "outputs": [
    {
     "data": {
      "text/plain": [
       "(45, 50)"
      ]
     },
     "execution_count": 43,
     "metadata": {},
     "output_type": "execute_result"
    }
   ],
   "source": [
    "circuit_train = all_circuits_parallel(data_train, data_train, indices_list_t, n_dim, 10)\n",
    "circuit_val   = all_circuits_parallel(data_val, data_train, indices_list_v, n_dim, 10)\n",
    "len(circuit_train),len(circuit_val)"
   ]
  },
  {
   "cell_type": "code",
   "execution_count": 44,
   "id": "7ca13d71-d420-4eeb-9b4b-0444bf77f011",
   "metadata": {},
   "outputs": [
    {
     "name": "stdout",
     "output_type": "stream",
     "text": [
      "[[1.         0.30098385 0.43379955 0.19714298 0.03715671 0.30517409\n",
      "  0.00804929 0.34306565 0.16218042 0.3088741 ]\n",
      " [0.30098385 1.         0.72284008 0.38978293 0.27129847 0.56482352\n",
      "  0.03313179 0.95425184 0.21387816 0.73541272]\n",
      " [0.43379955 0.72284008 1.         0.26080698 0.08028382 0.53846088\n",
      "  0.00899097 0.70960104 0.13038892 0.92764596]\n",
      " [0.19714298 0.38978293 0.26080698 1.         0.48628431 0.45404411\n",
      "  0.08289332 0.46064627 0.84653178 0.20947611]\n",
      " [0.03715671 0.27129847 0.08028382 0.48628431 1.         0.37435866\n",
      "  0.15987832 0.28069774 0.35711983 0.08023345]\n",
      " [0.30517409 0.56482352 0.53846088 0.45404411 0.37435866 1.\n",
      "  0.15000589 0.59757026 0.37236847 0.51253138]\n",
      " [0.00804929 0.03313179 0.00899097 0.08289332 0.15987832 0.15000589\n",
      "  1.         0.03780634 0.08951725 0.00593604]\n",
      " [0.34306565 0.95425184 0.70960104 0.46064627 0.28069774 0.59757026\n",
      "  0.03780634 1.         0.2697172  0.66255899]\n",
      " [0.16218042 0.21387816 0.13038892 0.84653178 0.35711983 0.37236847\n",
      "  0.08951725 0.2697172  1.         0.09185314]\n",
      " [0.3088741  0.73541272 0.92764596 0.20947611 0.08023345 0.51253138\n",
      "  0.00593604 0.66255899 0.09185314 1.        ]]\n"
     ]
    }
   ],
   "source": [
    "svsm_kernel_matrix_train = kernel_matrix_svsm(data_train, data_train, circuit_train, indices_list_t, simulator, mode=\"train\")\n",
    "svsm_kernel_matrix_test  = kernel_matrix_svsm(data_val, data_train, circuit_val, indices_list_v, simulator)\n",
    "print(svsm_kernel_matrix_train)"
   ]
  },
  {
   "cell_type": "code",
   "execution_count": 45,
   "id": "3414dffe-0183-4e8a-808d-c17bebb407f8",
   "metadata": {},
   "outputs": [
    {
     "data": {
      "text/plain": [
       "0.9125868542446052"
      ]
     },
     "execution_count": 45,
     "metadata": {},
     "output_type": "execute_result"
    }
   ],
   "source": [
    "## ZZFeatureMap\n",
    "from qiskit_machine_learning.algorithms import QSVC\n",
    "from qiskit.circuit.library import ZZFeatureMap\n",
    "from qiskit_machine_learning.kernels import FidelityQuantumKernel\n",
    "\n",
    "#fmap=ZZFeatureMap(n_dim, entanglement='linear')\n",
    "#qkernel = FidelityQuantumKernel(feature_map=fmap)\n",
    "#matrix_train = qkernel.evaluate(data_train)\n",
    "#(svsm_kernel_matrix_train-matrix_train).max()"
   ]
  },
  {
   "cell_type": "code",
   "execution_count": 46,
   "id": "848e5b83-617b-48c7-ba04-d58e89ef1059",
   "metadata": {},
   "outputs": [
    {
     "data": {
      "text/plain": [
       "4.787203577993893e-09"
      ]
     },
     "execution_count": 46,
     "metadata": {},
     "output_type": "execute_result"
    }
   ],
   "source": [
    "from qiskit_machine_learning.algorithms import QSVC\n",
    "from qiskit.circuit.library import ZZFeatureMap\n",
    "from qiskit_machine_learning.kernels import FidelityQuantumKernel\n",
    "\n",
    "fmap=make_bsp(n_dim)\n",
    "qkernel = FidelityQuantumKernel(feature_map=fmap)\n",
    "\n",
    "matrix_train = qkernel.evaluate(data_train)\n",
    "(svsm_kernel_matrix_train-matrix_train).max()"
   ]
  },
  {
   "cell_type": "code",
   "execution_count": 47,
   "id": "0236119b-169f-4f3d-9709-3272890ec9f4",
   "metadata": {},
   "outputs": [
    {
     "data": {
      "text/plain": [
       "4.384480889463305e-09"
      ]
     },
     "execution_count": 47,
     "metadata": {},
     "output_type": "execute_result"
    }
   ],
   "source": [
    "matrix_test = qkernel.evaluate(data_val,data_train)\n",
    "(svsm_kernel_matrix_test-matrix_test).max()"
   ]
  },
  {
   "cell_type": "code",
   "execution_count": 48,
   "id": "d81ef1c6-bf9e-41ed-a629-ff04508fc69c",
   "metadata": {},
   "outputs": [
    {
     "data": {
      "image/png": "[encoded data removed]",
      "text/plain": [
       "<Figure size 1000x500 with 2 Axes>"
      ]
     },
     "metadata": {},
     "output_type": "display_data"
    }
   ],
   "source": [
    "fig, axs = plt.subplots(1, 2, figsize=(10, 5))\n",
    "axs[0].imshow(np.asmatrix(matrix_train), interpolation=\"nearest\", origin=\"upper\", cmap=\"bwr\")\n",
    "axs[0].set_title(\"matrix_train\")\n",
    "axs[1].imshow(np.asmatrix(svsm_kernel_matrix_train), interpolation=\"nearest\", origin=\"upper\", cmap=\"bwr\")\n",
    "axs[1].set_title(\"svsm_kernel_matrix_train\")\n",
    "plt.show()"
   ]
  },
  {
   "cell_type": "code",
   "execution_count": 49,
   "id": "30f472a7-915e-447a-acce-e2357abaece5",
   "metadata": {},
   "outputs": [
    {
     "data": {
      "image/png": "[encoded data removed]",
      "text/plain": [
       "<Figure size 1000x500 with 2 Axes>"
      ]
     },
     "metadata": {},
     "output_type": "display_data"
    }
   ],
   "source": [
    "fig, axs = plt.subplots(1, 2, figsize=(10, 5))\n",
    "axs[0].imshow(np.asmatrix(matrix_test), interpolation=\"nearest\", origin=\"upper\", cmap=\"RdYlGn\")\n",
    "axs[0].set_title(\"matrix_test\")\n",
    "axs[1].imshow(np.asmatrix(svsm_kernel_matrix_test), interpolation=\"nearest\", origin=\"upper\", cmap=\"RdYlGn\")\n",
    "axs[1].set_title(\"svsm_kernel_matrix_test\")\n",
    "plt.show()"
   ]
  },
  {
   "cell_type": "code",
   "execution_count": 50,
   "id": "f7eecc0e-a6af-4679-b4a3-4dee7c415905",
   "metadata": {},
   "outputs": [
    {
     "name": "stdout",
     "output_type": "stream",
     "text": [
      "0.9 0.6\n"
     ]
    }
   ],
   "source": [
    "svc = SVC(kernel=\"precomputed\")\n",
    "svc.fit(svsm_kernel_matrix_train,Y_train[:nb1])\n",
    "result1 = svc.score(svsm_kernel_matrix_train,Y_train[:nb1])\n",
    "result2 = svc.score(svsm_kernel_matrix_test,Y_val[:nb2])\n",
    "print(result1, result2)"
   ]
  },
  {
   "cell_type": "markdown",
   "id": "203bacfc-5118-4f13-9128-321e9a75825e",
   "metadata": {},
   "source": [
    "---"
   ]
  },
  {
   "cell_type": "markdown",
   "id": "52ff33aa-0b7d-4aa6-a406-4eeadb671fa9",
   "metadata": {},
   "source": [
    "## tensornetwork simulation"
   ]
  },
  {
   "cell_type": "code",
   "execution_count": 51,
   "id": "2b384fa8-dcbd-4a00-8d40-f0871b9fe4e1",
   "metadata": {},
   "outputs": [],
   "source": [
    "def get_exp(x_t, n_dim, kernel):\n",
    "    psix = make_bsp(n_dim)\n",
    "    psiy = psix.inverse()\n",
    "    circuit = psix.assign_parameters(x_t[0]).compose(psiy.assign_parameters(x_t[0]))\n",
    "    \n",
    "    converter = CircuitToEinsum(circuit, backend='numpy')\n",
    "    a = str(0).zfill(n_dim)\n",
    "    exp, _ = converter.amplitude(a)  \n",
    "    return exp\n",
    "    \n",
    "def get_operand(circuit,n_dim):\n",
    "    a = str(0).zfill(n_dim)\n",
    "    converter = CircuitToEinsum(circuit, backend='numpy')\n",
    "    _, oper = converter.amplitude(a)  \n",
    "    return oper    \n",
    "def all_operands_parallel(circuit, n_dim, num_cpu):\n",
    "    with Pool(processes=num_cpu, maxtasksperchild=100) as pool:\n",
    "        indices_list = list(range(len(circuit)))\n",
    "        operands = pool.starmap(get_operand, [(circuit[i],n_dim) for i in indices_list])\n",
    "    return operands\n",
    "def kernel_matrix_tnsm(y_t, x_t, exp, opers, indices_list, options, mode=None):\n",
    "    kernel_matrix = np.zeros((len(y_t),len(x_t)))\n",
    "    i, oper = -1, opers[0]\n",
    "    with Network(exp, *oper, options=options) as tn:\n",
    "        tn.contract_path()\n",
    "        for i1, i2 in indices_list:\n",
    "            i += 1\n",
    "            tn.reset_operands(*opers[i])     \n",
    "            amp_tn = abs(tn.contract()) ** 2\n",
    "            kernel_matrix[i1-1][i2-1] = np.round(amp_tn,8) \n",
    "        tn.free()\n",
    "    if mode == 'train':\n",
    "        kernel_matrix = kernel_matrix + kernel_matrix.T+np.diag(np.ones((len(x_t))))\n",
    "    return kernel_matrix"
   ]
  },
  {
   "cell_type": "code",
   "execution_count": 52,
   "id": "91311eb8-efb9-4dea-ae70-697cd6e3bdaf",
   "metadata": {},
   "outputs": [],
   "source": [
    "n_dim = 10\n",
    "data_train, data_val  = data_prepare(n_dim, X_train, X_val)"
   ]
  },
  {
   "cell_type": "code",
   "execution_count": 53,
   "id": "c565dfe1-7caf-4be7-a030-4be3aef33017",
   "metadata": {},
   "outputs": [
    {
     "data": {
      "text/plain": [
       "(45, 50)"
      ]
     },
     "execution_count": 53,
     "metadata": {},
     "output_type": "execute_result"
    }
   ],
   "source": [
    "indices_list_t = list(combinations(range(1, len(data_train) + 1), 2))\n",
    "indices_list_v = list(product(range(1, len(data_val) + 1),range(1, len(data_train) + 1)))\n",
    "len(indices_list_t),len(indices_list_v)"
   ]
  },
  {
   "cell_type": "code",
   "execution_count": 54,
   "id": "b568b3a0-e55d-4e9d-99fc-3a92669bc146",
   "metadata": {},
   "outputs": [
    {
     "name": "stdout",
     "output_type": "stream",
     "text": [
      "10\n",
      "5\n"
     ]
    }
   ],
   "source": [
    "print(len(data_train))\n",
    "print(len(data_val))"
   ]
  },
  {
   "cell_type": "code",
   "execution_count": 56,
   "id": "0ae3e5fc-1752-427b-b345-cae40c24d968",
   "metadata": {},
   "outputs": [
    {
     "ename": "TypeError",
     "evalue": "all_circuits_parallel() takes 5 positional arguments but 6 were given",
     "output_type": "error",
     "traceback": [
      "\u001b[0;31m---------------------------------------------------------------------------\u001b[0m",
      "\u001b[0;31mTypeError\u001b[0m                                 Traceback (most recent call last)",
      "Cell \u001b[0;32mIn[56], line 1\u001b[0m\n\u001b[0;32m----> 1\u001b[0m circuit_train \u001b[38;5;241m=\u001b[39m \u001b[43mall_circuits_parallel\u001b[49m\u001b[43m(\u001b[49m\u001b[43mdata_train\u001b[49m\u001b[43m,\u001b[49m\u001b[43m \u001b[49m\u001b[43mdata_train\u001b[49m\u001b[43m,\u001b[49m\u001b[43m \u001b[49m\u001b[43mindices_list_t\u001b[49m\u001b[43m,\u001b[49m\u001b[43m \u001b[49m\u001b[43mn_dim\u001b[49m\u001b[43m,\u001b[49m\u001b[43m \u001b[49m\u001b[43mqkernel\u001b[49m\u001b[43m,\u001b[49m\u001b[43m \u001b[49m\u001b[38;5;241;43m10\u001b[39;49m\u001b[43m)\u001b[49m\n\u001b[1;32m      2\u001b[0m circuit_val   \u001b[38;5;241m=\u001b[39m all_circuits_parallel(data_val, data_train, indices_list_v, n_dim, qkernel, \u001b[38;5;241m10\u001b[39m)\n",
      "\u001b[0;31mTypeError\u001b[0m: all_circuits_parallel() takes 5 positional arguments but 6 were given"
     ]
    }
   ],
   "source": [
    "circuit_train = all_circuits_parallel(data_train, data_train, indices_list_t, n_dim, qkernel, 10)\n",
    "circuit_val   = all_circuits_parallel(data_val, data_train, indices_list_v, n_dim, qkernel, 10)"
   ]
  },
  {
   "cell_type": "code",
   "execution_count": 91,
   "id": "9e6a19f0-ad9e-4d66-ad85-19c45ee8bc0a",
   "metadata": {},
   "outputs": [
    {
     "data": {
      "text/plain": [
       "(190, 100)"
      ]
     },
     "execution_count": 91,
     "metadata": {},
     "output_type": "execute_result"
    }
   ],
   "source": [
    "oper_train = all_operands_parallel(circuit_train, n_dim, 10)\n",
    "oper_val   = all_operands_parallel(circuit_val,n_dim,10)\n",
    "len(oper_train),len(oper_val)"
   ]
  },
  {
   "cell_type": "code",
   "execution_count": 94,
   "id": "c80d9104-a688-4743-95a5-87fc36b666ac",
   "metadata": {},
   "outputs": [],
   "source": [
    "# oper = oper_train[0]\n",
    "options = NetworkOptions(blocking=\"auto\")\n",
    "# network = Network(exp, *oper,options=options)\n",
    "# path, info = network.contract_path()"
   ]
  },
  {
   "cell_type": "code",
   "execution_count": 95,
   "id": "ab7ca37d-e1fa-4517-ac4f-4145346c6f78",
   "metadata": {
    "scrolled": true
   },
   "outputs": [],
   "source": [
    "exp = get_exp(data_train, n_dim, bsp_kernel_tnsm)\n",
    "\n",
    "tnsm_kernel_matrix_train = kernel_matrix_tnsm(data_train, data_train, exp, oper_train, indices_list_t, options, mode='train')\n",
    "tnsm_kernel_matrix_test  = kernel_matrix_tnsm(data_val, data_train, exp, oper_val, indices_list_v, options, mode=None)"
   ]
  },
  {
   "cell_type": "code",
   "execution_count": 96,
   "id": "88a7d9b5-0255-4d04-97e9-9617bc307887",
   "metadata": {},
   "outputs": [
    {
     "data": {
      "text/plain": [
       "(20, 20)"
      ]
     },
     "execution_count": 96,
     "metadata": {},
     "output_type": "execute_result"
    }
   ],
   "source": [
    "tnsm_kernel_matrix_train.shape"
   ]
  },
  {
   "cell_type": "code",
   "execution_count": 97,
   "id": "95c985a5-7218-4bec-99b5-2e10148e47c1",
   "metadata": {},
   "outputs": [
    {
     "data": {
      "text/plain": [
       "0.0"
      ]
     },
     "execution_count": 97,
     "metadata": {},
     "output_type": "execute_result"
    }
   ],
   "source": [
    "(tnsm_kernel_matrix_train-svsm_kernel_matrix_train).max()"
   ]
  },
  {
   "cell_type": "code",
   "execution_count": 98,
   "id": "5c8fdb5d-face-49b6-be03-27e1faa903ea",
   "metadata": {},
   "outputs": [
    {
     "data": {
      "text/plain": [
       "0.0"
      ]
     },
     "execution_count": 98,
     "metadata": {},
     "output_type": "execute_result"
    }
   ],
   "source": [
    "(tnsm_kernel_matrix_test-svsm_kernel_matrix_test).max()"
   ]
  },
  {
   "cell_type": "code",
   "execution_count": 99,
   "id": "aa3e3911-7588-408b-bdc2-f6220beca5ef",
   "metadata": {},
   "outputs": [
    {
     "data": {
      "image/png": "[encoded data removed]",
      "text/plain": [
       "<Figure size 1000x500 with 2 Axes>"
      ]
     },
     "metadata": {},
     "output_type": "display_data"
    }
   ],
   "source": [
    "fig, axs = plt.subplots(1, 2, figsize=(10, 5))\n",
    "axs[0].imshow(np.asmatrix(svsm_kernel_matrix_train), interpolation=\"nearest\", origin=\"upper\", cmap=\"bwr\")\n",
    "axs[0].set_title(\"svsm_kernel_matrix_train\")\n",
    "axs[1].imshow(np.asmatrix(tnsm_kernel_matrix_train), interpolation=\"nearest\", origin=\"upper\", cmap=\"bwr\")\n",
    "axs[1].set_title(f\"tnsm_kernel_matrix_train\\n erro:{(tnsm_kernel_matrix_train-svsm_kernel_matrix_train).max()}\")\n",
    "plt.show()"
   ]
  },
  {
   "cell_type": "code",
   "execution_count": null,
   "id": "4bb262c5-9f96-4fc2-88cf-d990280247fc",
   "metadata": {},
   "outputs": [],
   "source": []
  }
 ],
 "metadata": {
  "kernelspec": {
   "display_name": "Python 3 (ipykernel)",
   "language": "python",
   "name": "python3"
  },
  "language_info": {
   "codemirror_mode": {
    "name": "ipython",
    "version": 3
   },
   "file_extension": ".py",
   "mimetype": "text/x-python",
   "name": "python",
   "nbconvert_exporter": "python",
   "pygments_lexer": "ipython3",
   "version": "3.10.13"
  }
 },
 "nbformat": 4,
 "nbformat_minor": 5
}
